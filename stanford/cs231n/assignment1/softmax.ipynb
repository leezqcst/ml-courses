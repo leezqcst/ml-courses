{
 "cells": [
  {
   "cell_type": "markdown",
   "metadata": {},
   "source": [
    "# Softmax exercise\n",
    "\n",
    "*Complete and hand in this completed worksheet (including its outputs and any supporting code outside of the worksheet) with your assignment submission. For more details see the [assignments page](http://vision.stanford.edu/teaching/cs231n/assignments.html) on the course website.*\n",
    "\n",
    "This exercise is analogous to the SVM exercise. You will:\n",
    "\n",
    "- implement a fully-vectorized **loss function** for the Softmax classifier\n",
    "- implement the fully-vectorized expression for its **analytic gradient**\n",
    "- **check your implementation** with numerical gradient\n",
    "- use a validation set to **tune the learning rate and regularization** strength\n",
    "- **optimize** the loss function with **SGD**\n",
    "- **visualize** the final learned weights\n"
   ]
  },
  {
   "cell_type": "code",
   "execution_count": 68,
   "metadata": {
    "collapsed": false
   },
   "outputs": [
    {
     "name": "stdout",
     "output_type": "stream",
     "text": [
      "The autoreload extension is already loaded. To reload it, use:\n",
      "  %reload_ext autoreload\n"
     ]
    }
   ],
   "source": [
    "import random\n",
    "import numpy as np\n",
    "from cs231n.data_utils import load_CIFAR10\n",
    "import matplotlib.pyplot as plt\n",
    "%matplotlib inline\n",
    "plt.rcParams['figure.figsize'] = (10.0, 8.0) # set default size of plots\n",
    "plt.rcParams['image.interpolation'] = 'nearest'\n",
    "plt.rcParams['image.cmap'] = 'gray'\n",
    "\n",
    "# for auto-reloading extenrnal modules\n",
    "# see http://stackoverflow.com/questions/1907993/autoreload-of-modules-in-ipython\n",
    "%load_ext autoreload\n",
    "%autoreload 2"
   ]
  },
  {
   "cell_type": "code",
   "execution_count": 69,
   "metadata": {
    "collapsed": false
   },
   "outputs": [
    {
     "name": "stdout",
     "output_type": "stream",
     "text": [
      "Train data shape:  (49000, 3073)\n",
      "Train labels shape:  (49000,)\n",
      "Validation data shape:  (1000, 3073)\n",
      "Validation labels shape:  (1000,)\n",
      "Test data shape:  (1000, 3073)\n",
      "Test labels shape:  (1000,)\n",
      "dev data shape:  (500, 3073)\n",
      "dev labels shape:  (500,)\n"
     ]
    }
   ],
   "source": [
    "def get_CIFAR10_data(num_training=49000, num_validation=1000, num_test=1000, num_dev=500):\n",
    "  \"\"\"\n",
    "  Load the CIFAR-10 dataset from disk and perform preprocessing to prepare\n",
    "  it for the linear classifier. These are the same steps as we used for the\n",
    "  SVM, but condensed to a single function.  \n",
    "  \"\"\"\n",
    "  # Load the raw CIFAR-10 data\n",
    "  cifar10_dir = 'cs231n/datasets/cifar-10-batches-py'\n",
    "  X_train, y_train, X_test, y_test = load_CIFAR10(cifar10_dir)\n",
    "  \n",
    "  # subsample the data\n",
    "  mask = range(num_training, num_training + num_validation)\n",
    "  X_val = X_train[mask]\n",
    "  y_val = y_train[mask]\n",
    "  mask = range(num_training)\n",
    "  X_train = X_train[mask]\n",
    "  y_train = y_train[mask]\n",
    "  mask = range(num_test)\n",
    "  X_test = X_test[mask]\n",
    "  y_test = y_test[mask]\n",
    "  mask = np.random.choice(num_training, num_dev, replace=False)\n",
    "  X_dev = X_train[mask]\n",
    "  y_dev = y_train[mask]\n",
    "  \n",
    "  # Preprocessing: reshape the image data into rows\n",
    "  X_train = np.reshape(X_train, (X_train.shape[0], -1))\n",
    "  X_val = np.reshape(X_val, (X_val.shape[0], -1))\n",
    "  X_test = np.reshape(X_test, (X_test.shape[0], -1))\n",
    "  X_dev = np.reshape(X_dev, (X_dev.shape[0], -1))\n",
    "  \n",
    "  # Normalize the data: subtract the mean image\n",
    "  mean_image = np.mean(X_train, axis = 0)\n",
    "  X_train -= mean_image\n",
    "  X_val -= mean_image\n",
    "  X_test -= mean_image\n",
    "  X_dev -= mean_image\n",
    "  \n",
    "  # add bias dimension and transform into columns\n",
    "  X_train = np.hstack([X_train, np.ones((X_train.shape[0], 1))])\n",
    "  X_val = np.hstack([X_val, np.ones((X_val.shape[0], 1))])\n",
    "  X_test = np.hstack([X_test, np.ones((X_test.shape[0], 1))])\n",
    "  X_dev = np.hstack([X_dev, np.ones((X_dev.shape[0], 1))])\n",
    "  \n",
    "  return X_train, y_train, X_val, y_val, X_test, y_test, X_dev, y_dev\n",
    "\n",
    "\n",
    "# Invoke the above function to get our data.\n",
    "X_train, y_train, X_val, y_val, X_test, y_test, X_dev, y_dev = get_CIFAR10_data()\n",
    "print 'Train data shape: ', X_train.shape\n",
    "print 'Train labels shape: ', y_train.shape\n",
    "print 'Validation data shape: ', X_val.shape\n",
    "print 'Validation labels shape: ', y_val.shape\n",
    "print 'Test data shape: ', X_test.shape\n",
    "print 'Test labels shape: ', y_test.shape\n",
    "print 'dev data shape: ', X_dev.shape\n",
    "print 'dev labels shape: ', y_dev.shape"
   ]
  },
  {
   "cell_type": "markdown",
   "metadata": {},
   "source": [
    "## Softmax Classifier\n",
    "\n",
    "Your code for this section will all be written inside **cs231n/classifiers/softmax.py**. \n"
   ]
  },
  {
   "cell_type": "code",
   "execution_count": 70,
   "metadata": {
    "collapsed": false
   },
   "outputs": [
    {
     "name": "stdout",
     "output_type": "stream",
     "text": [
      "loss: 2.355251\n",
      "sanity check: 2.302585\n"
     ]
    }
   ],
   "source": [
    "# First implement the naive softmax loss function with nested loops.\n",
    "# Open the file cs231n/classifiers/softmax.py and implement the\n",
    "# softmax_loss_naive function.\n",
    "\n",
    "from cs231n.classifiers.softmax import softmax_loss_naive\n",
    "import time\n",
    "\n",
    "# Generate a random softmax weight matrix and use it to compute the loss.\n",
    "W = np.random.randn(3073, 10) * 0.0001\n",
    "loss, grad = softmax_loss_naive(W, X_dev, y_dev, 0.0)\n",
    "\n",
    "# As a rough sanity check, our loss should be something close to -log(0.1).\n",
    "print 'loss: %f' % loss\n",
    "print 'sanity check: %f' % (-np.log(0.1))"
   ]
  },
  {
   "cell_type": "markdown",
   "metadata": {},
   "source": [
    "## Inline Question 1:\n",
    "Why do we expect our loss to be close to -log(0.1)? Explain briefly.**\n",
    "\n",
    "**Your answer:** *Fill this in*\n"
   ]
  },
  {
   "cell_type": "code",
   "execution_count": 71,
   "metadata": {
    "collapsed": false
   },
   "outputs": [
    {
     "name": "stdout",
     "output_type": "stream",
     "text": [
      "numerical: 2.561655 analytic: 2.561655, relative error: 2.593050e-08\n",
      "numerical: -2.877672 analytic: -2.877672, relative error: 7.626160e-09\n",
      "numerical: -0.213417 analytic: -0.213417, relative error: 1.607658e-07\n",
      "numerical: -1.419329 analytic: -1.419329, relative error: 1.333721e-08\n",
      "numerical: -0.939568 analytic: -0.939568, relative error: 5.022245e-08\n",
      "numerical: -1.299545 analytic: -1.299545, relative error: 6.656345e-09\n",
      "numerical: -1.776016 analytic: -1.776016, relative error: 1.507595e-08\n",
      "numerical: -3.341329 analytic: -3.341329, relative error: 2.798684e-08\n",
      "numerical: -1.138004 analytic: -1.138004, relative error: 8.472720e-08\n",
      "numerical: 0.850219 analytic: 0.850219, relative error: 2.545105e-08\n",
      "numerical: -3.558159 analytic: -3.558159, relative error: 2.636343e-08\n",
      "numerical: 2.042277 analytic: 2.042277, relative error: 3.010095e-10\n",
      "numerical: 0.538238 analytic: 0.538238, relative error: 6.118083e-09\n",
      "numerical: -3.059990 analytic: -3.059990, relative error: 2.977938e-08\n",
      "numerical: -2.042847 analytic: -2.042847, relative error: 2.669994e-09\n",
      "numerical: 0.257995 analytic: 0.257995, relative error: 3.849509e-08\n",
      "numerical: 3.560641 analytic: 3.560641, relative error: 1.184218e-08\n",
      "numerical: -2.121918 analytic: -2.121918, relative error: 1.569698e-08\n",
      "numerical: 3.100792 analytic: 3.100792, relative error: 7.335485e-09\n",
      "numerical: 1.334792 analytic: 1.334792, relative error: 5.659889e-08\n"
     ]
    }
   ],
   "source": [
    "# Complete the implementation of softmax_loss_naive and implement a (naive)\n",
    "# version of the gradient that uses nested loops.\n",
    "loss, grad = softmax_loss_naive(W, X_dev, y_dev, 0.0)\n",
    "\n",
    "# As we did for the SVM, use numeric gradient checking as a debugging tool.\n",
    "# The numeric gradient should be close to the analytic gradient.\n",
    "from cs231n.gradient_check import grad_check_sparse\n",
    "f = lambda w: softmax_loss_naive(w, X_dev, y_dev, 0.0)[0]\n",
    "grad_numerical = grad_check_sparse(f, W, grad, 10)\n",
    "\n",
    "# similar to SVM case, do another gradient check with regularization\n",
    "loss, grad = softmax_loss_naive(W, X_dev, y_dev, 1e2)\n",
    "f = lambda w: softmax_loss_naive(w, X_dev, y_dev, 1e2)[0]\n",
    "grad_numerical = grad_check_sparse(f, W, grad, 10)"
   ]
  },
  {
   "cell_type": "code",
   "execution_count": 72,
   "metadata": {
    "collapsed": false
   },
   "outputs": [
    {
     "name": "stdout",
     "output_type": "stream",
     "text": [
      "naive loss: 2.355251e+00 computed in 0.142349s\n",
      "vectorized loss: 2.355251e+00 computed in 0.008816s\n",
      "Loss difference: 0.000000\n",
      "Gradient difference: 0.000000\n"
     ]
    }
   ],
   "source": [
    "# Now that we have a naive implementation of the softmax loss function and its gradient,\n",
    "# implement a vectorized version in softmax_loss_vectorized.\n",
    "# The two versions should compute the same results, but the vectorized version should be\n",
    "# much faster.\n",
    "tic = time.time()\n",
    "loss_naive, grad_naive = softmax_loss_naive(W, X_dev, y_dev, 0.00001)\n",
    "toc = time.time()\n",
    "print 'naive loss: %e computed in %fs' % (loss_naive, toc - tic)\n",
    "\n",
    "from cs231n.classifiers.softmax import softmax_loss_vectorized\n",
    "tic = time.time()\n",
    "loss_vectorized, grad_vectorized = softmax_loss_vectorized(W, X_dev, y_dev, 0.00001)\n",
    "toc = time.time()\n",
    "print 'vectorized loss: %e computed in %fs' % (loss_vectorized, toc - tic)\n",
    "\n",
    "# As we did for the SVM, we use the Frobenius norm to compare the two versions\n",
    "# of the gradient.\n",
    "grad_difference = np.linalg.norm(grad_naive - grad_vectorized, ord='fro')\n",
    "print 'Loss difference: %f' % np.abs(loss_naive - loss_vectorized)\n",
    "print 'Gradient difference: %f' % grad_difference"
   ]
  },
  {
   "cell_type": "code",
   "execution_count": 73,
   "metadata": {
    "collapsed": false
   },
   "outputs": [
    {
     "ename": "AttributeError",
     "evalue": "'NoneType' object has no attribute 'predict'",
     "output_type": "error",
     "traceback": [
      "\u001b[0;31m---------------------------------------------------------------------------\u001b[0m",
      "\u001b[0;31mAttributeError\u001b[0m                            Traceback (most recent call last)",
      "\u001b[0;32m<ipython-input-73-a35ed3fc4f06>\u001b[0m in \u001b[0;36m<module>\u001b[0;34m()\u001b[0m\n\u001b[1;32m      1\u001b[0m \u001b[0;31m# evaluate on test set\u001b[0m\u001b[0;34m\u001b[0m\u001b[0;34m\u001b[0m\u001b[0m\n\u001b[1;32m      2\u001b[0m \u001b[0;31m# Evaluate the best softmax on test set\u001b[0m\u001b[0;34m\u001b[0m\u001b[0;34m\u001b[0m\u001b[0m\n\u001b[0;32m----> 3\u001b[0;31m \u001b[0my_test_pred\u001b[0m \u001b[0;34m=\u001b[0m \u001b[0mbest_softmax\u001b[0m\u001b[0;34m.\u001b[0m\u001b[0mpredict\u001b[0m\u001b[0;34m(\u001b[0m\u001b[0mX_test\u001b[0m\u001b[0;34m)\u001b[0m\u001b[0;34m\u001b[0m\u001b[0m\n\u001b[0m\u001b[1;32m      4\u001b[0m \u001b[0mtest_accuracy\u001b[0m \u001b[0;34m=\u001b[0m \u001b[0mnp\u001b[0m\u001b[0;34m.\u001b[0m\u001b[0mmean\u001b[0m\u001b[0;34m(\u001b[0m\u001b[0my_test\u001b[0m \u001b[0;34m==\u001b[0m \u001b[0my_test_pred\u001b[0m\u001b[0;34m)\u001b[0m\u001b[0;34m\u001b[0m\u001b[0m\n\u001b[1;32m      5\u001b[0m \u001b[0;32mprint\u001b[0m \u001b[0;34m'softmax on raw pixels final test set accuracy: %f'\u001b[0m \u001b[0;34m%\u001b[0m \u001b[0;34m(\u001b[0m\u001b[0mtest_accuracy\u001b[0m\u001b[0;34m,\u001b[0m \u001b[0;34m)\u001b[0m\u001b[0;34m\u001b[0m\u001b[0m\n",
      "\u001b[0;31mAttributeError\u001b[0m: 'NoneType' object has no attribute 'predict'"
     ]
    }
   ],
   "source": [
    "# evaluate on test set\n",
    "# Evaluate the best softmax on test set\n",
    "y_test_pred = best_softmax.predict(X_test)\n",
    "test_accuracy = np.mean(y_test == y_test_pred)\n",
    "print 'softmax on raw pixels final test set accuracy: %f' % (test_accuracy, )"
   ]
  },
  {
   "cell_type": "code",
   "execution_count": 76,
   "metadata": {
    "collapsed": false
   },
   "outputs": [
    {
     "name": "stdout",
     "output_type": "stream",
     "text": [
      "Testing lr 1.000000e-05 reg 5.000000e+04\n",
      "iteration 0 / 1500: loss 776.167858\n",
      "iteration 100 / 1500: loss 8.763284\n",
      "iteration 200 / 1500: loss 7.984218\n",
      "iteration 300 / 1500: loss 7.613706\n",
      "iteration 400 / 1500: loss 6.971543\n",
      "iteration 500 / 1500: loss 6.732724\n",
      "iteration 600 / 1500: loss 6.033491\n",
      "iteration 700 / 1500: loss 6.342008\n",
      "iteration 800 / 1500: loss 6.692525\n",
      "iteration 900 / 1500: loss 6.637429\n",
      "iteration 1000 / 1500: loss 6.110094\n",
      "iteration 1100 / 1500: loss 6.817083\n",
      "iteration 1200 / 1500: loss 9.940898\n",
      "iteration 1300 / 1500: loss 6.763574\n",
      "iteration 1400 / 1500: loss 7.765364\n",
      "Testing lr 1.000000e-05 reg 1.000000e+06\n",
      "iteration 0 / 1500: loss 15584.347634\n",
      "iteration 100 / 1500: loss inf\n",
      "iteration 200 / 1500: loss inf\n",
      "iteration 300 / 1500: loss inf\n",
      "iteration 400 / 1500: loss nan\n",
      "iteration 500 / 1500: loss nan\n",
      "iteration 600 / 1500: loss nan\n",
      "iteration 700 / 1500: loss nan\n",
      "iteration 800 / 1500: loss nan\n",
      "iteration 900 / 1500: loss nan\n",
      "iteration 1000 / 1500: loss nan\n",
      "iteration 1100 / 1500: loss nan\n",
      "iteration 1200 / 1500: loss nan\n",
      "iteration 1300 / 1500: loss nan\n",
      "iteration 1400 / 1500: loss nan\n",
      "Testing lr 3.000000e-05 reg 5.000000e+04\n",
      "iteration 0 / 1500: loss 773.286729\n",
      "iteration 100 / 1500: loss 169.528185\n",
      "iteration 200 / 1500: loss 175.983172\n",
      "iteration 300 / 1500: loss 165.009854\n",
      "iteration 400 / 1500: loss 162.110184\n",
      "iteration 500 / 1500: loss 171.677862\n",
      "iteration 600 / 1500: loss 160.549106\n",
      "iteration 700 / 1500: loss 161.469729\n",
      "iteration 800 / 1500: loss 186.262486\n",
      "iteration 900 / 1500: loss 188.653586\n",
      "iteration 1000 / 1500: loss 162.180570\n",
      "iteration 1100 / 1500: loss 169.794013\n",
      "iteration 1200 / 1500: loss 181.908344\n",
      "iteration 1300 / 1500: loss 193.333961\n",
      "iteration 1400 / 1500: loss 185.099401\n",
      "Testing lr 3.000000e-05 reg 1.000000e+06\n",
      "iteration 0 / 1500: loss 15513.873940\n",
      "iteration 100 / 1500: loss inf\n",
      "iteration 200 / 1500: loss inf\n",
      "iteration 300 / 1500: loss nan\n",
      "iteration 400 / 1500: loss nan\n",
      "iteration 500 / 1500: loss nan\n",
      "iteration 600 / 1500: loss nan\n",
      "iteration 700 / 1500: loss nan\n",
      "iteration 800 / 1500: loss nan\n",
      "iteration 900 / 1500: loss nan\n",
      "iteration 1000 / 1500: loss nan\n",
      "iteration 1100 / 1500: loss nan\n",
      "iteration 1200 / 1500: loss nan\n",
      "iteration 1300 / 1500: loss nan\n",
      "iteration 1400 / 1500: loss nan\n",
      "Testing lr 1.000000e-06 reg 5.000000e+04\n",
      "iteration 0 / 1500: loss 774.373705\n",
      "iteration 100 / 1500: loss 2.177957\n",
      "iteration 200 / 1500: loss 2.045788\n",
      "iteration 300 / 1500: loss 2.125883\n",
      "iteration 400 / 1500: loss 2.078365\n",
      "iteration 500 / 1500: loss 2.104419\n",
      "iteration 600 / 1500: loss 2.129815\n",
      "iteration 700 / 1500: loss 2.072880\n",
      "iteration 800 / 1500: loss 2.103250\n",
      "iteration 900 / 1500: loss 2.125877\n",
      "iteration 1000 / 1500: loss 2.083041\n",
      "iteration 1100 / 1500: loss 2.085648\n",
      "iteration 1200 / 1500: loss 2.036764\n",
      "iteration 1300 / 1500: loss 2.117556\n",
      "iteration 1400 / 1500: loss 2.135816\n",
      "Testing lr 1.000000e-06 reg 1.000000e+06\n",
      "iteration 0 / 1500: loss 15155.348878\n",
      "iteration 100 / 1500: loss 2.300521\n",
      "iteration 200 / 1500: loss 2.289266\n",
      "iteration 300 / 1500: loss 2.310402\n",
      "iteration 400 / 1500: loss 2.281357\n",
      "iteration 500 / 1500: loss 2.293095\n",
      "iteration 600 / 1500: loss 2.303458\n",
      "iteration 700 / 1500: loss 2.300962\n",
      "iteration 800 / 1500: loss 2.301331\n",
      "iteration 900 / 1500: loss 2.300709\n",
      "iteration 1000 / 1500: loss 2.300527\n",
      "iteration 1100 / 1500: loss 2.293154\n",
      "iteration 1200 / 1500: loss 2.313087\n",
      "iteration 1300 / 1500: loss 2.313672\n",
      "iteration 1400 / 1500: loss 2.305816\n",
      "Testing lr 3.000000e-06 reg 5.000000e+04\n",
      "iteration 0 / 1500: loss 774.016328\n",
      "iteration 100 / 1500: loss 2.107576\n",
      "iteration 200 / 1500: loss 2.133985\n",
      "iteration 300 / 1500: loss 2.163070\n",
      "iteration 400 / 1500: loss 2.087488\n",
      "iteration 500 / 1500: loss 2.110788\n",
      "iteration 600 / 1500: loss 2.147228\n",
      "iteration 700 / 1500: loss 2.123650\n",
      "iteration 800 / 1500: loss 2.190612\n",
      "iteration 900 / 1500: loss 2.212363\n",
      "iteration 1000 / 1500: loss 2.150543\n",
      "iteration 1100 / 1500: loss 2.172601\n",
      "iteration 1200 / 1500: loss 2.040733\n",
      "iteration 1300 / 1500: loss 2.106531\n",
      "iteration 1400 / 1500: loss 2.132204\n",
      "Testing lr 3.000000e-06 reg 1.000000e+06\n",
      "iteration 0 / 1500: loss 15488.491888\n",
      "iteration 100 / 1500: loss inf\n",
      "iteration 200 / 1500: loss inf\n",
      "iteration 300 / 1500: loss inf\n",
      "iteration 400 / 1500: loss inf\n",
      "iteration 500 / 1500: loss inf\n",
      "iteration 600 / 1500: loss inf\n",
      "iteration 700 / 1500: loss inf\n",
      "iteration 800 / 1500: loss inf\n",
      "iteration 900 / 1500: loss inf\n",
      "iteration 1000 / 1500: loss inf\n",
      "iteration 1100 / 1500: loss nan\n",
      "iteration 1200 / 1500: loss nan\n",
      "iteration 1300 / 1500: loss nan\n",
      "iteration 1400 / 1500: loss nan\n",
      "Testing lr 1.000000e-07 reg 5.000000e+04\n",
      "iteration 0 / 1500: loss 772.811853\n",
      "iteration 100 / 1500: loss 284.038469\n",
      "iteration 200 / 1500: loss 105.217461\n",
      "iteration 300 / 1500: loss 39.877421\n",
      "iteration 400 / 1500: loss 15.864302\n",
      "iteration 500 / 1500: loss 7.152479\n",
      "iteration 600 / 1500: loss 3.975545\n",
      "iteration 700 / 1500: loss 2.767312\n",
      "iteration 800 / 1500: loss 2.376026\n",
      "iteration 900 / 1500: loss 2.168594\n",
      "iteration 1000 / 1500: loss 2.107816\n",
      "iteration 1100 / 1500: loss 2.123432\n",
      "iteration 1200 / 1500: loss 2.061426\n",
      "iteration 1300 / 1500: loss 2.107784\n",
      "iteration 1400 / 1500: loss 2.081950\n",
      "Testing lr 1.000000e-07 reg 1.000000e+06\n",
      "iteration 0 / 1500: loss 15322.366808\n",
      "iteration 100 / 1500: loss 2.272236\n",
      "iteration 200 / 1500: loss 2.283839\n",
      "iteration 300 / 1500: loss 2.262674\n",
      "iteration 400 / 1500: loss 2.268326\n",
      "iteration 500 / 1500: loss 2.261785\n",
      "iteration 600 / 1500: loss 2.268579\n",
      "iteration 700 / 1500: loss 2.270674\n",
      "iteration 800 / 1500: loss 2.274780\n",
      "iteration 900 / 1500: loss 2.267858\n",
      "iteration 1000 / 1500: loss 2.268959\n",
      "iteration 1100 / 1500: loss 2.275460\n",
      "iteration 1200 / 1500: loss 2.275313\n",
      "iteration 1300 / 1500: loss 2.255873\n",
      "iteration 1400 / 1500: loss 2.270922\n",
      "Testing lr 3.000000e-07 reg 5.000000e+04\n",
      "iteration 0 / 1500: loss 781.289127\n",
      "iteration 100 / 1500: loss 39.488724\n",
      "iteration 200 / 1500: loss 3.961153\n",
      "iteration 300 / 1500: loss 2.154719\n",
      "iteration 400 / 1500: loss 2.128469\n",
      "iteration 500 / 1500: loss 2.120363\n",
      "iteration 600 / 1500: loss 2.138053\n",
      "iteration 700 / 1500: loss 2.056917\n",
      "iteration 800 / 1500: loss 2.116248\n",
      "iteration 900 / 1500: loss 2.109031\n",
      "iteration 1000 / 1500: loss 2.082564\n",
      "iteration 1100 / 1500: loss 2.112258\n",
      "iteration 1200 / 1500: loss 2.126811\n",
      "iteration 1300 / 1500: loss 2.084571\n",
      "iteration 1400 / 1500: loss 2.126087\n",
      "Testing lr 3.000000e-07 reg 1.000000e+06\n",
      "iteration 0 / 1500: loss 15816.708158\n",
      "iteration 100 / 1500: loss 2.268659\n",
      "iteration 200 / 1500: loss 2.270504\n",
      "iteration 300 / 1500: loss 2.276510\n",
      "iteration 400 / 1500: loss 2.275914\n",
      "iteration 500 / 1500: loss 2.275904\n",
      "iteration 600 / 1500: loss 2.259349\n",
      "iteration 700 / 1500: loss 2.269706\n",
      "iteration 800 / 1500: loss 2.274000\n",
      "iteration 900 / 1500: loss 2.278896\n",
      "iteration 1000 / 1500: loss 2.268768\n",
      "iteration 1100 / 1500: loss 2.263651\n",
      "iteration 1200 / 1500: loss 2.266742\n",
      "iteration 1300 / 1500: loss 2.275075\n",
      "iteration 1400 / 1500: loss 2.275424\n",
      "lr 1.000000e-07 reg 5.000000e+04 train accuracy: 0.331000 val accuracy: 0.351000\n",
      "lr 1.000000e-07 reg 1.000000e+06 train accuracy: 0.257857 val accuracy: 0.270000\n",
      "lr 3.000000e-07 reg 5.000000e+04 train accuracy: 0.326551 val accuracy: 0.347000\n",
      "lr 3.000000e-07 reg 1.000000e+06 train accuracy: 0.259735 val accuracy: 0.269000\n",
      "lr 1.000000e-06 reg 5.000000e+04 train accuracy: 0.323653 val accuracy: 0.317000\n",
      "lr 1.000000e-06 reg 1.000000e+06 train accuracy: 0.221735 val accuracy: 0.219000\n",
      "lr 3.000000e-06 reg 5.000000e+04 train accuracy: 0.301265 val accuracy: 0.298000\n",
      "lr 3.000000e-06 reg 1.000000e+06 train accuracy: 0.100265 val accuracy: 0.087000\n",
      "lr 1.000000e-05 reg 5.000000e+04 train accuracy: 0.168367 val accuracy: 0.186000\n",
      "lr 1.000000e-05 reg 1.000000e+06 train accuracy: 0.100265 val accuracy: 0.087000\n",
      "lr 3.000000e-05 reg 5.000000e+04 train accuracy: 0.099449 val accuracy: 0.094000\n",
      "lr 3.000000e-05 reg 1.000000e+06 train accuracy: 0.100265 val accuracy: 0.087000\n",
      "best validation accuracy achieved during cross-validation: 0.351000\n"
     ]
    },
    {
     "name": "stderr",
     "output_type": "stream",
     "text": [
      "cs231n/classifiers/softmax.py:83: RuntimeWarning: invalid value encountered in subtract\n",
      "  scores -= scores.max(1).reshape(-1,1) # used for numerical stability\n"
     ]
    }
   ],
   "source": [
    "# Use the validation set to tune hyperparameters (regularization strength and\n",
    "# learning rate). You should experiment with different ranges for the learning\n",
    "# rates and regularization strengths; if you are careful you should be able to\n",
    "# get a classification accuracy of over 0.35 on the validation set.\n",
    "from cs231n.classifiers import Softmax\n",
    "results = {}\n",
    "best_val = -1\n",
    "best_softmax = None\n",
    "learning_rates = [1e-5, 3e-5, 1e-6, 3e-6, 1e-7, 3e-7]\n",
    "regularization_strengths = [5e4, 1e6]\n",
    "\n",
    "################################################################################\n",
    "# TODO:                                                                        #\n",
    "# Use the validation set to set the learning rate and regularization strength. #\n",
    "# This should be identical to the validation that you did for the SVM; save    #\n",
    "# the best trained softmax classifer in best_softmax.                          #\n",
    "################################################################################\n",
    "for learning_rate in learning_rates:\n",
    "    for regularization_strength in regularization_strengths:\n",
    "        print 'Testing lr %e reg %e' % (learning_rate, regularization_strength)\n",
    "        softmax = Softmax()\n",
    "        softmax.train(X_train, y_train, learning_rate=learning_rate\n",
    "                              , reg=regularization_strength, num_iters=1500, verbose=True)\n",
    "        y_train_pred = softmax.predict(X_train)\n",
    "        train_accuracy = np.mean(y_train == y_train_pred)\n",
    "        y_val_pred = softmax.predict(X_val)\n",
    "        val_accuracy = np.mean(y_val == y_val_pred)\n",
    "        results[(learning_rate, regularization_strength)] = (train_accuracy, val_accuracy)\n",
    "        if val_accuracy > best_val:\n",
    "            best_val = val_accuracy\n",
    "            best_softmax = softmax\n",
    "################################################################################\n",
    "#                              END OF YOUR CODE                                #\n",
    "################################################################################\n",
    "    \n",
    "# Print out results.\n",
    "for lr, reg in sorted(results):\n",
    "    train_accuracy, val_accuracy = results[(lr, reg)]\n",
    "    print 'lr %e reg %e train accuracy: %f val accuracy: %f' % (\n",
    "                lr, reg, train_accuracy, val_accuracy)\n",
    "    \n",
    "print 'best validation accuracy achieved during cross-validation: %f' % best_val"
   ]
  },
  {
   "cell_type": "code",
   "execution_count": 77,
   "metadata": {
    "collapsed": false
   },
   "outputs": [
    {
     "data": {
      "image/png": "[encoded data removed]",
      "text/plain": [
       "<matplotlib.figure.Figure at 0x119e0a290>"
      ]
     },
     "metadata": {},
     "output_type": "display_data"
    }
   ],
   "source": [
    "# Visualize the learned weights for each class\n",
    "w = best_softmax.W[:-1,:] # strip out the bias\n",
    "w = w.reshape(32, 32, 3, 10)\n",
    "\n",
    "w_min, w_max = np.min(w), np.max(w)\n",
    "\n",
    "classes = ['plane', 'car', 'bird', 'cat', 'deer', 'dog', 'frog', 'horse', 'ship', 'truck']\n",
    "for i in xrange(10):\n",
    "  plt.subplot(2, 5, i + 1)\n",
    "  \n",
    "  # Rescale the weights to be between 0 and 255\n",
    "  wimg = 255.0 * (w[:, :, :, i].squeeze() - w_min) / (w_max - w_min)\n",
    "  plt.imshow(wimg.astype('uint8'))\n",
    "  plt.axis('off')\n",
    "  plt.title(classes[i])"
   ]
  },
  {
   "cell_type": "code",
   "execution_count": null,
   "metadata": {
    "collapsed": true
   },
   "outputs": [],
   "source": []
  }
 ],
 "metadata": {
  "kernelspec": {
   "display_name": "Python 2",
   "language": "python",
   "name": "python2"
  },
  "language_info": {
   "codemirror_mode": {
    "name": "ipython",
    "version": 2
   },
   "file_extension": ".py",
   "mimetype": "text/x-python",
   "name": "python",
   "nbconvert_exporter": "python",
   "pygments_lexer": "ipython2",
   "version": "2.7.11"
  }
 },
 "nbformat": 4,
 "nbformat_minor": 0
}
